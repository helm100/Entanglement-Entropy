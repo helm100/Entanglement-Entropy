{
 "cells": [
  {
   "cell_type": "code",
   "execution_count": 57,
   "metadata": {},
   "outputs": [],
   "source": [
    "using LinearAlgebra, Plots\n",
    "\n",
    "#function to remove multiple elements from a list\n",
    "function PopMul(list,rem) #rem = which elements to remove\n",
    "    rem=sort(rem, rev=true) #ordering is important when removing elements from list, could be done elsewere\n",
    "    for r in rem\n",
    "       splice!(list,r) \n",
    "    end\n",
    "    list\n",
    "end\n",
    ";\n",
    "\n",
    "#function to convert a binary list [0,1,1,0,1] to a decimal number\n",
    "function BinDec(bin)\n",
    "    dec=0\n",
    "    for i in 1:length(bin)\n",
    "        dec+=bin[i]*2^(i-1)\n",
    "    end\n",
    "    dec\n",
    "end\n",
    ";"
   ]
  },
  {
   "cell_type": "markdown",
   "metadata": {},
   "source": [
    "We want to determine the entanglement entropy of a state $|\\phi>$ of the form $$|\\phi>=\\sum_{l=0}^{2^N}c_l|l>,$$ where N is the number of particles and l labels the basis states of the Hilbert space.\n",
    "\n",
    "The density matrix is of the form $$\\rho_{\\phi}=\\sum_{l,l'}c_lc_{l'}^*|l><l'|$$\n",
    "\n",
    "In our case, $|l>$ is represented by e.g. $|011010>$. We can devide it into subsystems A and B, where A is for example the first half of the system and B the second: $$|011010>=|011>\\otimes|010>.$$\n",
    "\n",
    "We want to be able to choose our subsystem. This will be the input of the reduced density function, together with the state. We choose to make the imput a list: e.g. {1,3,5} will mean the subsystem has the first, third and fifth particle.\n",
    "\n",
    "In the lecture we saw that for a state written in terms of A eigenvectors ${\\alpha}$ and B eigenvectors $\\beta$ $$|\\phi>=\\sum_{\\alpha}\\sum_{\\beta}\\phi_{\\alpha\\beta}|\\alpha>\\otimes|\\beta>,$$ the reduced density operator $\\hat{\\rho}_A$ has, in the A eigenspace, matrix elements as follows: \n",
    "\n",
    "$$\n",
    "\\rho_{A,ij}=\\sum_{k=1}^{2^{dim_B}}\\phi_{ik}\\phi_{jk}.\n",
    "$$\n",
    "\n",
    "Once this reduced density matrix has been obtained, it is easy to compute the entanglement entropy:\n",
    "$$\n",
    "S_A = \\sum_{\\alpha} w_{\\alpha}\\log{w_{\\alpha}}\n",
    "$$\n",
    "where $w_{\\alpha}$ are the eigenvalues of the reduced density matrix."
   ]
  },
  {
   "cell_type": "code",
   "execution_count": 151,
   "metadata": {},
   "outputs": [
    {
     "data": {
      "text/plain": [
       "RedDens (generic function with 1 method)"
      ]
     },
     "execution_count": 151,
     "metadata": {},
     "output_type": "execute_result"
    }
   ],
   "source": [
    "function RedDens(state,subsys) #computes the reduced density matrix\n",
    "    \n",
    "    N=Int64(log(2,length(state))) #number of particles\n",
    "    Na=length(subsys) #number of particles in subsystem A\n",
    "    prod = zeros(Float64,2^Na, 2^(N-Na)) #matrix with coef. of the product state\n",
    "    for l in 1:length(state)\n",
    "        lbin=digits(l-1, base = 2, pad = N)\n",
    "        abin=lbin[subsys] #finding the state of A within l\n",
    "        bbin=PopMul(lbin,subsys) #finding the state of B within l\n",
    "        prod[BinDec(abin)+1,BinDec(bbin)+1]=state[l]\n",
    "    end\n",
    "    redDM = zeros(Float64,2^Na,2^Na) #initializes the reduced density matrix\n",
    "    for i in 1:2^Na\n",
    "        for j in 1:2^Na\n",
    "            redDM[i,j]=dot(prod[i,:],prod[j,:])\n",
    "        end\n",
    "    end\n",
    "    redDM\n",
    "    \n",
    "end"
   ]
  },
  {
   "cell_type": "code",
   "execution_count": 162,
   "metadata": {},
   "outputs": [
    {
     "data": {
      "text/plain": [
       "EntEntr (generic function with 1 method)"
      ]
     },
     "execution_count": 162,
     "metadata": {},
     "output_type": "execute_result"
    }
   ],
   "source": [
    "function EntEntr(state,subsys) #determines the entanglement entropy\n",
    "    \n",
    "    #=if length(subsys) == 0\n",
    "        return 0\n",
    "    end=#\n",
    "    redDM = RedDens(state,subsys)\n",
    "    eigv = eigvals(redDM)\n",
    "    entropy = 0\n",
    "    for w in eigv\n",
    "        if w > 1e-20\n",
    "            entropy -= w*log(w)\n",
    "        end\n",
    "    end\n",
    "    entropy\n",
    "end"
   ]
  },
  {
   "cell_type": "markdown",
   "metadata": {},
   "source": [
    "We now want to test the function in different cases. First a `random state':"
   ]
  },
  {
   "cell_type": "code",
   "execution_count": 173,
   "metadata": {},
   "outputs": [
    {
     "data": {
      "image/svg+xml": [
       "<?xml version=\"1.0\" encoding=\"utf-8\"?>\n",
       "<svg xmlns=\"http://www.w3.org/2000/svg\" xmlns:xlink=\"http://www.w3.org/1999/xlink\" width=\"600\" height=\"400\" viewBox=\"0 0 2400 1600\">\n",
       "<defs>\n",
       "  <clipPath id=\"clip1900\">\n",
       "    <rect x=\"0\" y=\"0\" width=\"2400\" height=\"1600\"/>\n",
       "  </clipPath>\n",
       "</defs>\n",
       "<polygon clip-path=\"url(#clip1900)\" points=\"\n",
       "0,1600 2400,1600 2400,0 0,0 \n",
       "  \" fill=\"#ffffff\" fill-rule=\"evenodd\" fill-opacity=\"1\"/>\n",
       "<defs>\n",
       "  <clipPath id=\"clip1901\">\n",
       "    <rect x=\"480\" y=\"0\" width=\"1681\" height=\"1600\"/>\n",
       "  </clipPath>\n",
       "</defs>\n",
       "<polygon clip-path=\"url(#clip1900)\" points=\"\n",
       "121.251,1503.47 2321.26,1503.47 2321.26,47.2441 121.251,47.2441 \n",
       "  \" fill=\"#ffffff\" fill-rule=\"evenodd\" fill-opacity=\"1\"/>\n",
       "<defs>\n",
       "  <clipPath id=\"clip1902\">\n",
       "    <rect x=\"121\" y=\"47\" width=\"2201\" height=\"1457\"/>\n",
       "  </clipPath>\n",
       "</defs>\n",
       "<polyline clip-path=\"url(#clip1902)\" style=\"stroke:#000000; stroke-width:2; stroke-opacity:0.1; fill:none\" points=\"\n",
       "  414.124,1503.47 414.124,47.2441 \n",
       "  \"/>\n",
       "<polyline clip-path=\"url(#clip1902)\" style=\"stroke:#000000; stroke-width:2; stroke-opacity:0.1; fill:none\" points=\"\n",
       "  875.342,1503.47 875.342,47.2441 \n",
       "  \"/>\n",
       "<polyline clip-path=\"url(#clip1902)\" style=\"stroke:#000000; stroke-width:2; stroke-opacity:0.1; fill:none\" points=\"\n",
       "  1336.56,1503.47 1336.56,47.2441 \n",
       "  \"/>\n",
       "<polyline clip-path=\"url(#clip1902)\" style=\"stroke:#000000; stroke-width:2; stroke-opacity:0.1; fill:none\" points=\"\n",
       "  1797.78,1503.47 1797.78,47.2441 \n",
       "  \"/>\n",
       "<polyline clip-path=\"url(#clip1902)\" style=\"stroke:#000000; stroke-width:2; stroke-opacity:0.1; fill:none\" points=\"\n",
       "  2259,1503.47 2259,47.2441 \n",
       "  \"/>\n",
       "<polyline clip-path=\"url(#clip1902)\" style=\"stroke:#000000; stroke-width:2; stroke-opacity:0.1; fill:none\" points=\"\n",
       "  121.251,1462.26 2321.26,1462.26 \n",
       "  \"/>\n",
       "<polyline clip-path=\"url(#clip1902)\" style=\"stroke:#000000; stroke-width:2; stroke-opacity:0.1; fill:none\" points=\"\n",
       "  121.251,1065.87 2321.26,1065.87 \n",
       "  \"/>\n",
       "<polyline clip-path=\"url(#clip1902)\" style=\"stroke:#000000; stroke-width:2; stroke-opacity:0.1; fill:none\" points=\"\n",
       "  121.251,669.469 2321.26,669.469 \n",
       "  \"/>\n",
       "<polyline clip-path=\"url(#clip1902)\" style=\"stroke:#000000; stroke-width:2; stroke-opacity:0.1; fill:none\" points=\"\n",
       "  121.251,273.074 2321.26,273.074 \n",
       "  \"/>\n",
       "<polyline clip-path=\"url(#clip1900)\" style=\"stroke:#000000; stroke-width:4; stroke-opacity:1; fill:none\" points=\"\n",
       "  121.251,1503.47 2321.26,1503.47 \n",
       "  \"/>\n",
       "<polyline clip-path=\"url(#clip1900)\" style=\"stroke:#000000; stroke-width:4; stroke-opacity:1; fill:none\" points=\"\n",
       "  121.251,1503.47 121.251,47.2441 \n",
       "  \"/>\n",
       "<polyline clip-path=\"url(#clip1900)\" style=\"stroke:#000000; stroke-width:4; stroke-opacity:1; fill:none\" points=\"\n",
       "  414.124,1503.47 414.124,1481.63 \n",
       "  \"/>\n",
       "<polyline clip-path=\"url(#clip1900)\" style=\"stroke:#000000; stroke-width:4; stroke-opacity:1; fill:none\" points=\"\n",
       "  875.342,1503.47 875.342,1481.63 \n",
       "  \"/>\n",
       "<polyline clip-path=\"url(#clip1900)\" style=\"stroke:#000000; stroke-width:4; stroke-opacity:1; fill:none\" points=\"\n",
       "  1336.56,1503.47 1336.56,1481.63 \n",
       "  \"/>\n",
       "<polyline clip-path=\"url(#clip1900)\" style=\"stroke:#000000; stroke-width:4; stroke-opacity:1; fill:none\" points=\"\n",
       "  1797.78,1503.47 1797.78,1481.63 \n",
       "  \"/>\n",
       "<polyline clip-path=\"url(#clip1900)\" style=\"stroke:#000000; stroke-width:4; stroke-opacity:1; fill:none\" points=\"\n",
       "  2259,1503.47 2259,1481.63 \n",
       "  \"/>\n",
       "<polyline clip-path=\"url(#clip1900)\" style=\"stroke:#000000; stroke-width:4; stroke-opacity:1; fill:none\" points=\"\n",
       "  121.251,1462.26 154.251,1462.26 \n",
       "  \"/>\n",
       "<polyline clip-path=\"url(#clip1900)\" style=\"stroke:#000000; stroke-width:4; stroke-opacity:1; fill:none\" points=\"\n",
       "  121.251,1065.87 154.251,1065.87 \n",
       "  \"/>\n",
       "<polyline clip-path=\"url(#clip1900)\" style=\"stroke:#000000; stroke-width:4; stroke-opacity:1; fill:none\" points=\"\n",
       "  121.251,669.469 154.251,669.469 \n",
       "  \"/>\n",
       "<polyline clip-path=\"url(#clip1900)\" style=\"stroke:#000000; stroke-width:4; stroke-opacity:1; fill:none\" points=\"\n",
       "  121.251,273.074 154.251,273.074 \n",
       "  \"/>\n",
       "<g clip-path=\"url(#clip1900)\">\n",
       "<text style=\"fill:#000000; fill-opacity:1; font-family:Arial,Helvetica Neue,Helvetica,sans-serif; font-size:48px; text-anchor:middle;\" transform=\"rotate(0, 414.124, 1557.47)\" x=\"414.124\" y=\"1557.47\">2</text>\n",
       "</g>\n",
       "<g clip-path=\"url(#clip1900)\">\n",
       "<text style=\"fill:#000000; fill-opacity:1; font-family:Arial,Helvetica Neue,Helvetica,sans-serif; font-size:48px; text-anchor:middle;\" transform=\"rotate(0, 875.342, 1557.47)\" x=\"875.342\" y=\"1557.47\">4</text>\n",
       "</g>\n",
       "<g clip-path=\"url(#clip1900)\">\n",
       "<text style=\"fill:#000000; fill-opacity:1; font-family:Arial,Helvetica Neue,Helvetica,sans-serif; font-size:48px; text-anchor:middle;\" transform=\"rotate(0, 1336.56, 1557.47)\" x=\"1336.56\" y=\"1557.47\">6</text>\n",
       "</g>\n",
       "<g clip-path=\"url(#clip1900)\">\n",
       "<text style=\"fill:#000000; fill-opacity:1; font-family:Arial,Helvetica Neue,Helvetica,sans-serif; font-size:48px; text-anchor:middle;\" transform=\"rotate(0, 1797.78, 1557.47)\" x=\"1797.78\" y=\"1557.47\">8</text>\n",
       "</g>\n",
       "<g clip-path=\"url(#clip1900)\">\n",
       "<text style=\"fill:#000000; fill-opacity:1; font-family:Arial,Helvetica Neue,Helvetica,sans-serif; font-size:48px; text-anchor:middle;\" transform=\"rotate(0, 2259, 1557.47)\" x=\"2259\" y=\"1557.47\">10</text>\n",
       "</g>\n",
       "<g clip-path=\"url(#clip1900)\">\n",
       "<text style=\"fill:#000000; fill-opacity:1; font-family:Arial,Helvetica Neue,Helvetica,sans-serif; font-size:48px; text-anchor:end;\" transform=\"rotate(0, 97.2505, 1479.76)\" x=\"97.2505\" y=\"1479.76\">0</text>\n",
       "</g>\n",
       "<g clip-path=\"url(#clip1900)\">\n",
       "<text style=\"fill:#000000; fill-opacity:1; font-family:Arial,Helvetica Neue,Helvetica,sans-serif; font-size:48px; text-anchor:end;\" transform=\"rotate(0, 97.2505, 1083.37)\" x=\"97.2505\" y=\"1083.37\">1</text>\n",
       "</g>\n",
       "<g clip-path=\"url(#clip1900)\">\n",
       "<text style=\"fill:#000000; fill-opacity:1; font-family:Arial,Helvetica Neue,Helvetica,sans-serif; font-size:48px; text-anchor:end;\" transform=\"rotate(0, 97.2505, 686.969)\" x=\"97.2505\" y=\"686.969\">2</text>\n",
       "</g>\n",
       "<g clip-path=\"url(#clip1900)\">\n",
       "<text style=\"fill:#000000; fill-opacity:1; font-family:Arial,Helvetica Neue,Helvetica,sans-serif; font-size:48px; text-anchor:end;\" transform=\"rotate(0, 97.2505, 290.574)\" x=\"97.2505\" y=\"290.574\">3</text>\n",
       "</g>\n",
       "<polyline clip-path=\"url(#clip1902)\" style=\"stroke:#009af9; stroke-width:4; stroke-opacity:1; fill:none\" points=\"\n",
       "  183.515,1188.38 414.124,920.458 644.733,654.202 875.342,422.287 1105.95,286.198 1336.56,410.32 1567.17,652.012 1797.78,917.181 2028.39,1188.25 2259,1462.26 \n",
       "  \n",
       "  \"/>\n",
       "<polyline clip-path=\"url(#clip1902)\" style=\"stroke:#e26f46; stroke-width:4; stroke-opacity:1; fill:none\" points=\"\n",
       "  183.515,1187.5 414.124,912.74 644.733,637.979 875.342,363.219 1105.95,88.4582 \n",
       "  \"/>\n",
       "<polygon clip-path=\"url(#clip1900)\" points=\"\n",
       "1958.43,312.204 2249.26,312.204 2249.26,130.764 1958.43,130.764 \n",
       "  \" fill=\"#ffffff\" fill-rule=\"evenodd\" fill-opacity=\"1\"/>\n",
       "<polyline clip-path=\"url(#clip1900)\" style=\"stroke:#000000; stroke-width:4; stroke-opacity:1; fill:none\" points=\"\n",
       "  1958.43,312.204 2249.26,312.204 2249.26,130.764 1958.43,130.764 1958.43,312.204 \n",
       "  \"/>\n",
       "<polyline clip-path=\"url(#clip1900)\" style=\"stroke:#009af9; stroke-width:4; stroke-opacity:1; fill:none\" points=\"\n",
       "  1982.43,191.244 2126.43,191.244 \n",
       "  \"/>\n",
       "<g clip-path=\"url(#clip1900)\">\n",
       "<text style=\"fill:#000000; fill-opacity:1; font-family:Arial,Helvetica Neue,Helvetica,sans-serif; font-size:48px; text-anchor:start;\" transform=\"rotate(0, 2150.43, 208.744)\" x=\"2150.43\" y=\"208.744\">y1</text>\n",
       "</g>\n",
       "<polyline clip-path=\"url(#clip1900)\" style=\"stroke:#e26f46; stroke-width:4; stroke-opacity:1; fill:none\" points=\"\n",
       "  1982.43,251.724 2126.43,251.724 \n",
       "  \"/>\n",
       "<g clip-path=\"url(#clip1900)\">\n",
       "<text style=\"fill:#000000; fill-opacity:1; font-family:Arial,Helvetica Neue,Helvetica,sans-serif; font-size:48px; text-anchor:start;\" transform=\"rotate(0, 2150.43, 269.224)\" x=\"2150.43\" y=\"269.224\">y2</text>\n",
       "</g>\n",
       "</svg>\n"
      ]
     },
     "execution_count": 173,
     "metadata": {},
     "output_type": "execute_result"
    }
   ],
   "source": [
    "N = 10 #particle number\n",
    "randNr = 2*rand(2^N).-1 #random numbers in the range [-1,1]\n",
    "randState = normalize(randNr)\n",
    "data = Array{Float32}(undef, N)\n",
    "for i in 1:N\n",
    "    data[i] = EntEntr(randState,collect(1:i))\n",
    "end\n",
    "plot([data,[n*log(2) for n in 1:5]])"
   ]
  },
  {
   "cell_type": "code",
   "execution_count": 170,
   "metadata": {},
   "outputs": [
    {
     "data": {
      "text/plain": [
       "5-element Array{Float64,1}:\n",
       " 0.6931471805599453\n",
       " 1.3862943611198906\n",
       " 2.0794415416798357\n",
       " 2.772588722239781 \n",
       " 3.4657359027997265"
      ]
     },
     "execution_count": 170,
     "metadata": {},
     "output_type": "execute_result"
    }
   ],
   "source": [
    "[n*log(2) for n in 1:5]"
   ]
  }
 ],
 "metadata": {
  "kernelspec": {
   "display_name": "Julia 1.1.0",
   "language": "julia",
   "name": "julia-1.1"
  },
  "language_info": {
   "file_extension": ".jl",
   "mimetype": "application/julia",
   "name": "julia",
   "version": "1.1.0"
  }
 },
 "nbformat": 4,
 "nbformat_minor": 2
}
