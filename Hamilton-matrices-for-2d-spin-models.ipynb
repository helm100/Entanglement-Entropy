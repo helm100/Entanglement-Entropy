{
 "cells": [
  {
   "cell_type": "markdown",
   "metadata": {},
   "source": [
    "# Hamilton matrices for 2D spin models"
   ]
  },
  {
   "cell_type": "markdown",
   "metadata": {},
   "source": [
    "We can re-use the Hamiltonian-construction algorithm for the 2D case. By labeling the sites as:  \n",
    " $$1\\,\\,2\\,\\,\\,3\\,\\,\\,\\,4\\,\\,\\,\\,5\\,\\,\\,\\,6\\\\\n",
    "   7\\,\\,8\\,\\,9\\,\\,10\\,11\\,12$$\n",
    "and adding the right interaction terms in the J-matrices, a multi dimensional model can be emulated."
   ]
  },
  {
   "cell_type": "code",
   "execution_count": null,
   "metadata": {},
   "outputs": [],
   "source": [
    "#import Pkg; Pkg.add(\"Arpack\")"
   ]
  },
  {
   "cell_type": "code",
   "execution_count": 1,
   "metadata": {},
   "outputs": [],
   "source": [
    "using LinearAlgebra, SparseArrays, DelimitedFiles, Arpack, Plots\n",
    "\n",
    "#Including the functions to construct a Hamiltonian and calculate the entanglement entropy\n",
    "include(\"functions.jl\") #MakeHam, RedDens, EntEntr, PopMul, BinDec"
   ]
  },
  {
   "cell_type": "markdown",
   "metadata": {},
   "source": [
    "Now define J matrices and find the corresponding hamiltonian."
   ]
  },
  {
   "cell_type": "code",
   "execution_count": 2,
   "metadata": {},
   "outputs": [
    {
     "data": {
      "text/plain": [
       "1024×1024 Array{Float64,2}:\n",
       " -13.0   0.0   0.0   0.0   0.0   0.0  …   0.0   0.0   0.0   0.0   0.0    0.0\n",
       "   0.0  -9.0   0.0   0.0   0.0   0.0      0.0   0.0   0.0   0.0   0.0    0.0\n",
       "   0.0   0.0  -7.0   0.0   0.0   0.0      0.0   0.0   0.0   0.0   0.0    0.0\n",
       "   0.0   0.0   0.0  -7.0   0.0   0.0      0.0   0.0   0.0   0.0   0.0    0.0\n",
       "   0.0   0.0   0.0   0.0  -7.0   0.0      0.0   0.0   0.0   0.0   0.0    0.0\n",
       "   0.0   0.0   0.0   0.0   0.0  -3.0  …   0.0   0.0   0.0   0.0   0.0    0.0\n",
       "   0.0   0.0   0.0   0.0   0.0   0.0      0.0   0.0   0.0   0.0   0.0    0.0\n",
       "   0.0   0.0   0.0   0.0   0.0   0.0      0.0   0.0   0.0   0.0   0.0    0.0\n",
       "   0.0   0.0   0.0   0.0   0.0   0.0      0.0   0.0   0.0   0.0   0.0    0.0\n",
       "   0.0   0.0   0.0   0.0   0.0   0.0      0.0   0.0   0.0   0.0   0.0    0.0\n",
       "   0.0   0.0   0.0   0.0   0.0   0.0  …   0.0   0.0   0.0   0.0   0.0    0.0\n",
       "   0.0   0.0   0.0   0.0   0.0   0.0      0.0   0.0   0.0   0.0   0.0    0.0\n",
       "   0.0   0.0   0.0   0.0   0.0   0.0      0.0   0.0   0.0   0.0   0.0    0.0\n",
       "   ⋮                             ⋮    ⋱               ⋮                     \n",
       "   0.0   0.0   0.0   0.0   0.0   0.0      0.0   0.0   0.0   0.0   0.0    0.0\n",
       "   0.0   0.0   0.0   0.0   0.0   0.0      0.0   0.0   0.0   0.0   0.0    0.0\n",
       "   0.0   0.0   0.0   0.0   0.0   0.0      0.0   0.0   0.0   0.0   0.0    0.0\n",
       "   0.0   0.0   0.0   0.0   0.0   0.0  …   0.0   0.0   0.0   0.0   0.0    0.0\n",
       "   0.0   0.0   0.0   0.0   0.0   0.0      0.0   0.0   0.0   0.0   0.0    0.0\n",
       "   0.0   0.0   0.0   0.0   0.0   0.0      0.0   0.0   0.0   0.0   0.0    0.0\n",
       "   0.0   0.0   0.0   0.0   0.0   0.0     -3.0   0.0   0.0   0.0   0.0    0.0\n",
       "   0.0   0.0   0.0   0.0   0.0   0.0      0.0  -7.0   0.0   0.0   0.0    0.0\n",
       "   0.0   0.0   0.0   0.0   0.0   0.0  …   0.0   0.0  -7.0   0.0   0.0    0.0\n",
       "   0.0   0.0   0.0   0.0   0.0   0.0      0.0   0.0   0.0  -7.0   0.0    0.0\n",
       "   0.0   0.0   0.0   0.0   0.0   0.0      0.0   0.0   0.0   0.0  -9.0    0.0\n",
       "   0.0   0.0   0.0   0.0   0.0   0.0      0.0   0.0   0.0   0.0   0.0  -13.0"
      ]
     },
     "execution_count": 2,
     "metadata": {},
     "output_type": "execute_result"
    }
   ],
   "source": [
    "\n",
    "#################\n",
    "#Ising model\n",
    "#################\n",
    "N=10\n",
    "J=-1\n",
    "jmat = zeros(Int8, N, N, 3);\n",
    "\n",
    "for i in 1:Int(N/2-1)\n",
    "    jmat[i,i+1,3]=jmat[i+1,i,3]=J\n",
    "end\n",
    "for i in Int(N/2+1):(N-1)\n",
    "    jmat[i,i+1,3]=jmat[i+1,i,3]=J\n",
    "end\n",
    "for i in 1:Int(N/2)\n",
    "    jmat[i,i+Int(N/2),3]=jmat[i+Int(N/2),i,3]=J\n",
    "end\n",
    "\n",
    "mat1=MakeHam(jmat)\n",
    "matrix1=Matrix(mat1)\n",
    "\n",
    "##################\n",
    "#Heisenberg\n",
    "##################\n",
    "#=\n",
    "N=12\n",
    "J=1\n",
    "jmat = zeros(Int8, N, N, 3);\n",
    "for a in 1:3\n",
    "    for i in 1:Int(N/2-1)\n",
    "        jmat[i,i+1,a]=jmat[i+1,i,a]=J\n",
    "    end\n",
    "    for i in Int(N/2+1):(N-1)\n",
    "        jmat[i,i+1,a]=jmat[i+1,i,a]=J\n",
    "    end\n",
    "    for i in 1:Int(N/2)\n",
    "        jmat[i,i+6,a]=jmat[i+6,i,a]=J\n",
    "    end\n",
    "end\n",
    "\n",
    "\n",
    "mat2=MakeHam(jmat);\n",
    "=#"
   ]
  },
  {
   "cell_type": "code",
   "execution_count": 3,
   "metadata": {},
   "outputs": [
    {
     "data": {
      "text/plain": [
       "250×250 Array{Float64,2}:\n",
       " 0.283305   0.399876  0.996531    …  0.821889    0.228658   0.437253 \n",
       " 0.0111639  0.934202  0.655864       0.590829    0.998336   0.0371104\n",
       " 0.378843   0.689979  0.648509       0.0255468   0.214491   0.809715 \n",
       " 0.700758   0.287318  0.672918       0.393016    0.0576128  0.420028 \n",
       " 0.253179   0.948127  0.159483       0.244923    0.644041   0.770206 \n",
       " 0.878603   0.243369  0.550385    …  0.880158    0.0124362  0.600598 \n",
       " 0.853577   0.935616  0.983381       0.52386     0.357323   0.500657 \n",
       " 0.201465   0.391933  0.984205       0.866456    0.773029   0.262924 \n",
       " 0.849907   0.419426  0.511998       0.0135614   0.423484   0.231634 \n",
       " 0.41481    0.861074  0.799616       0.630088    0.580746   0.679093 \n",
       " 0.588289   0.14112   0.675839    …  0.00132585  0.870484   0.221124 \n",
       " 0.541151   0.421059  0.0892561      0.972141    0.766407   0.735369 \n",
       " 0.0036349  0.479878  0.74687        0.179775    0.440264   0.520991 \n",
       " ⋮                                ⋱                                  \n",
       " 0.662333   0.586605  0.56875        0.29317     0.310405   0.631945 \n",
       " 0.559342   0.856175  0.00574315     0.833445    0.799405   0.134912 \n",
       " 0.396443   0.652204  0.63738     …  0.882225    0.865557   0.547119 \n",
       " 0.762316   0.939406  0.14007        0.0102468   0.462462   0.706753 \n",
       " 0.176042   0.865459  0.260007       0.412074    0.734438   0.968093 \n",
       " 0.216634   0.675416  0.187645       0.800005    0.380194   0.241458 \n",
       " 0.500723   0.659504  0.600049       0.470424    0.248979   0.0981327\n",
       " 0.149386   0.852565  0.568146    …  0.417609    0.632046   0.283086 \n",
       " 0.176851   0.895455  0.917727       0.487516    0.426843   0.135536 \n",
       " 0.690535   0.477203  0.738588       0.317228    0.299774   0.0708442\n",
       " 0.40794    0.438094  0.437406       0.804336    0.389555   0.99888  \n",
       " 0.239383   0.896681  0.928099       0.814539    0.516664   0.563986 "
      ]
     },
     "execution_count": 3,
     "metadata": {},
     "output_type": "execute_result"
    }
   ],
   "source": [
    "A=rand(250,250)"
   ]
  },
  {
   "cell_type": "code",
   "execution_count": 7,
   "metadata": {},
   "outputs": [
    {
     "data": {
      "text/plain": [
       "250-element Array{Complex{Float64},1}:\n",
       "  125.41396548095642 + 0.0im                \n",
       " -2.9425950417837603 + 3.749086991767482im  \n",
       " -2.9425950417837603 - 3.749086991767482im  \n",
       "   4.674208674673974 + 0.07751960731708274im\n",
       "   4.674208674673974 - 0.07751960731708274im\n",
       "  0.5449003174155647 + 4.535847271980686im  \n",
       "  0.5449003174155647 - 4.535847271980686im  \n",
       "  0.6367072821080706 + 4.511001883106541im  \n",
       "  0.6367072821080706 - 4.511001883106541im  \n",
       "   4.304581363138167 + 1.5076595175855005im \n",
       "   4.304581363138167 - 1.5076595175855005im \n",
       "   3.259364780147669 + 3.0903241754652737im \n",
       "   3.259364780147669 - 3.0903241754652737im \n",
       "                     ⋮                      \n",
       " -1.1278576858923317 + 0.0im                \n",
       "  0.7987902453688017 + 0.45170459113781536im\n",
       "  0.7987902453688017 - 0.45170459113781536im\n",
       " -0.0773063153620705 + 0.6903302631943014im \n",
       " -0.0773063153620705 - 0.6903302631943014im \n",
       "  0.5367135364241407 + 0.5394369556128638im \n",
       "  0.5367135364241407 - 0.5394369556128638im \n",
       " -0.7344788381642687 + 0.0im                \n",
       "  0.5354655502596295 + 0.11404440707952992im\n",
       "  0.5354655502596295 - 0.11404440707952992im\n",
       " -0.2858473735302575 + 0.0im                \n",
       " 0.17251706146042178 + 0.0im                "
      ]
     },
     "execution_count": 7,
     "metadata": {},
     "output_type": "execute_result"
    }
   ],
   "source": [
    "#eigs(mat1; nev=1, which=:SR, maxiter=30000, ritzvec=true)\n",
    "a=eigen(A).values"
   ]
  },
  {
   "cell_type": "code",
   "execution_count": 10,
   "metadata": {},
   "outputs": [
    {
     "data": {
      "text/plain": [
       "-4.415835450377819"
      ]
     },
     "execution_count": 10,
     "metadata": {},
     "output_type": "execute_result"
    }
   ],
   "source": [
    "minimum(real(a))"
   ]
  },
  {
   "cell_type": "code",
   "execution_count": 5,
   "metadata": {},
   "outputs": [
    {
     "data": {
      "text/plain": [
       "(Complex{Float64}[-4.41584+0.386514im], Complex{Float64}[-0.0537816+0.0578238im; -0.0372871-0.0225595im; … ; 0.0141866+0.0158362im; -0.00172167-0.0132415im], 2, 33, 565, [-0.189854, 0.029925, -0.0599931, -0.143891, -0.211121, -0.268856, 0.063188, -0.111288, -0.123887, -0.0258724  …  0.0709034, -0.0839707, -0.0098447, -0.408883, -0.457179, -0.0136734, 0.118291, -0.0127222, 0.133279, 0.0350222])"
      ]
     },
     "execution_count": 5,
     "metadata": {},
     "output_type": "execute_result"
    }
   ],
   "source": [
    "eigs(A; nev=1, which=:SR, maxiter=30000, ritzvec=true)"
   ]
  },
  {
   "cell_type": "markdown",
   "metadata": {},
   "source": [
    "## (Ising) model, eigensystem"
   ]
  },
  {
   "cell_type": "code",
   "execution_count": null,
   "metadata": {},
   "outputs": [],
   "source": [
    "eigens=eigs(mat2)"
   ]
  },
  {
   "cell_type": "code",
   "execution_count": null,
   "metadata": {},
   "outputs": [],
   "source": [
    "mat2=Matrix(mat2)\n",
    "gndst=eigvecs(mat2)[:,1]\n",
    "\n",
    "\n",
    "data = Array{Float32}(undef, N+1)\n",
    "for i in 0:N\n",
    "    data[i+1] = EntEntr(gndst,collect(1:i))\n",
    "end\n",
    "plot(data)"
   ]
  }
 ],
 "metadata": {
  "kernelspec": {
   "display_name": "Julia 1.0.2",
   "language": "julia",
   "name": "julia-1.0"
  },
  "language_info": {
   "file_extension": ".jl",
   "mimetype": "application/julia",
   "name": "julia",
   "version": "1.0.2"
  }
 },
 "nbformat": 4,
 "nbformat_minor": 2
}
