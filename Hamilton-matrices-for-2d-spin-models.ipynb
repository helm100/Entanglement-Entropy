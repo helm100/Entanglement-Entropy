{
 "cells": [
  {
   "cell_type": "markdown",
   "metadata": {},
   "source": [
    "# Hamilton matrices for 2D spin models"
   ]
  },
  {
   "cell_type": "markdown",
   "metadata": {},
   "source": [
    "Quantum states are represented by binary number which can be converted to a decimal number.\n",
    "\n",
    "We start with state n, and by applying the algorithm provided in the lecture this state is modified by the operator $J_{i,j}^{\\alpha}S_i^{\\alpha}S_j^{\\alpha}$.\n",
    "\n",
    "We now want to construct a matrix using this algorithm."
   ]
  },
  {
   "cell_type": "code",
   "execution_count": 23,
   "metadata": {},
   "outputs": [],
   "source": [
    "using LinearAlgebra, SparseArrays, DelimitedFiles, Arpack\n",
    "#Specifying the number of particles and the interaction matrices \n",
    "N=3\n",
    "jmat = zeros(Int8, N, N, 3);"
   ]
  },
  {
   "cell_type": "code",
   "execution_count": 24,
   "metadata": {},
   "outputs": [
    {
     "data": {
      "text/plain": [
       "MakeHam (generic function with 1 method)"
      ]
     },
     "execution_count": 24,
     "metadata": {},
     "output_type": "execute_result"
    }
   ],
   "source": [
    "function MakeHam(jmat)\n",
    "    ham = spzeros(Float64,2^N, 2^N) #create empty sparse\n",
    "    for n in 0:2^N-1 #going trhough all possible states n\n",
    "        nbin=digits(n, base = 2, pad = N) #finding the binary corresponding to n (the state)\n",
    "        for i in 1:N #i,j going through the elements of the J-matrices\n",
    "            for j in i+1:N\n",
    "                zi=nbin[i] #the ith number of the binary number (0 or 1) \n",
    "                zj=nbin[j]\n",
    "                l = n +(1-2zi)*2^(i-1)+(1-2zj)*2^(j-1)\n",
    "                ham[l+1,n+1] += -(1/4)*jmat[i,j,1] #x-link\n",
    "                ham[l+1,n+1] += (1/4)*jmat[i,j,2]*(2zi-1)*(2zj-1) #y-link\n",
    "                ham[n+1,n+1] += -jmat[i,j,3]*(2zi-1)*(2zj-1) #z-link\n",
    "            end\n",
    "        end\n",
    "    end\n",
    "    return ham\n",
    "end"
   ]
  },
  {
   "cell_type": "markdown",
   "metadata": {},
   "source": [
    "Now define J matrices and find the corresponding hamiltonian."
   ]
  },
  {
   "cell_type": "code",
   "execution_count": 31,
   "metadata": {},
   "outputs": [
    {
     "data": {
      "text/plain": [
       "64×64 SparseMatrixCSC{Float64,Int64} with 64 stored entries:\n",
       "  [1 ,  1]  =  -5.0\n",
       "  [2 ,  2]  =  -3.0\n",
       "  [3 ,  3]  =  -1.0\n",
       "  [4 ,  4]  =  -3.0\n",
       "  [5 ,  5]  =  -1.0\n",
       "  [6 ,  6]  =  1.0\n",
       "  [7 ,  7]  =  -1.0\n",
       "  [8 ,  8]  =  -3.0\n",
       "  [9 ,  9]  =  -1.0\n",
       "  [10, 10]  =  1.0\n",
       "  [11, 11]  =  3.0\n",
       "  [12, 12]  =  1.0\n",
       "  ⋮\n",
       "  [53, 53]  =  1.0\n",
       "  [54, 54]  =  3.0\n",
       "  [55, 55]  =  1.0\n",
       "  [56, 56]  =  -1.0\n",
       "  [57, 57]  =  -3.0\n",
       "  [58, 58]  =  -1.0\n",
       "  [59, 59]  =  1.0\n",
       "  [60, 60]  =  -1.0\n",
       "  [61, 61]  =  -3.0\n",
       "  [62, 62]  =  -1.0\n",
       "  [63, 63]  =  -3.0\n",
       "  [64, 64]  =  -5.0"
      ]
     },
     "execution_count": 31,
     "metadata": {},
     "output_type": "execute_result"
    }
   ],
   "source": [
    "N=6\n",
    "jmat = zeros(Int8, N, N, 3);\n",
    "#Ising model\n",
    "#jmat[1,2,3]=jmat[1,3,3]=jmat[2,3,3]=jmat[2,1,3]=jmat[3,1,3]=jmat[3,2,3]=-1\n",
    "#jmat[1,2,3]=jmat[2,3,3]=jmat[2,1,3]=jmat[3,2,3]=-1\n",
    "for i in 1:N-1\n",
    "    jmat[i,i+1,3]=jmat[i+1,i,3]=1\n",
    "end\n",
    "mat1=MakeHam(jmat)\n",
    "mat1\n",
    "\n",
    "#=\n",
    "N=16\n",
    "\n",
    "#Heisenberg\n",
    "jmat = zeros(Int8, N, N, 3);\n",
    "for i in 1:N-1\n",
    "    for a in 1:3\n",
    "        jmat[i,i+1,a]=jmat[i+1,i,a]=-1\n",
    "    end\n",
    "end\n",
    "\n",
    "mat2=MakeHam(jmat)=#\n",
    "\n",
    "#=\n",
    "#Specified model\n",
    "jmat = zeros(Int8, N, N, 3)\n",
    "jmat[1,2,1]=jmat[2,3,2]=jmat[1,3,3]=1\n",
    "mat3=Matrix(MakeHam(jmat))\n",
    "display(mat3)=#"
   ]
  },
  {
   "cell_type": "markdown",
   "metadata": {},
   "source": [
    "## (Ising) model, eigensystem"
   ]
  },
  {
   "cell_type": "code",
   "execution_count": 26,
   "metadata": {},
   "outputs": [
    {
     "data": {
      "text/plain": [
       "([-5.0, -5.0, 5.0, 5.0, 3.0, 3.0], [0.461511 -0.887134 … -2.91254e-17 -2.67908e-18; 4.6465e-17 -1.25067e-16 … -5.55112e-17 3.90313e-18; … ; 5.14537e-17 -4.9797e-17 … -2.77556e-17 -3.98986e-17; -0.887134 -0.461511 … 1.22402e-17 1.28075e-17], 6, 1, 20, [2.36203e-32, -1.0474e-15, 4.0602e-18, -6.1232e-15, 7.55602e-18, -5.8129e-18, 2.26292e-18, -9.36905e-16, 9.40863e-18, 1.47122e-17  …  9.72679e-18, -1.64788e-17, 1.96785e-16, 4.208e-18, 2.35637e-17, 1.41545e-17, 1.81512e-15, -4.25137e-18, -1.36463e-15, -5.98496e-32])"
      ]
     },
     "execution_count": 26,
     "metadata": {},
     "output_type": "execute_result"
    }
   ],
   "source": [
    "eigs(mat1)"
   ]
  }
 ],
 "metadata": {
  "kernelspec": {
   "display_name": "Julia 1.1.0",
   "language": "julia",
   "name": "julia-1.1"
  },
  "language_info": {
   "file_extension": ".jl",
   "mimetype": "application/julia",
   "name": "julia",
   "version": "1.1.0"
  }
 },
 "nbformat": 4,
 "nbformat_minor": 2
}
