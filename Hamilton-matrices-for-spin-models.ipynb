{
 "cells": [
  {
   "cell_type": "markdown",
   "metadata": {},
   "source": [
    "# Hamilton matrices for spin models"
   ]
  },
  {
   "cell_type": "markdown",
   "metadata": {},
   "source": [
    "Quantum states are represented by binary number which can be converted to a decimal number.\n",
    "\n",
    "We start with state n, and by applying the algorithm provided in the lecture this state is modified by the operator $J_{i,j}^{\\alpha}S_i^{\\alpha}S_j^{\\alpha}$.\n",
    "\n",
    "We now want to construct a matrix using this algorithm."
   ]
  },
  {
   "cell_type": "code",
   "execution_count": 6,
   "metadata": {},
   "outputs": [],
   "source": [
    "using LinearAlgebra, SparseArrays, DelimitedFiles\n",
    "#Specifying the number of particles and the interaction matrices \n",
    "N=3\n",
    "jmat = zeros(Int8, N, N, 3);"
   ]
  },
  {
   "cell_type": "code",
   "execution_count": 7,
   "metadata": {},
   "outputs": [
    {
     "data": {
      "text/plain": [
       "MakeHam (generic function with 1 method)"
      ]
     },
     "execution_count": 7,
     "metadata": {},
     "output_type": "execute_result"
    }
   ],
   "source": [
    "function MakeHam(jmat)\n",
    "    ham = spzeros(Float64,2^N, 2^N) #create empty sparse\n",
    "    for n in 0:2^N-1 #going trhough all possible states n\n",
    "        nbin=digits(n, base = 2, pad = N) #finding the binary corresponding to n (the state)\n",
    "        for i in 1:N #i,j going through the elements of the J-matrices\n",
    "            for j in i+1:N\n",
    "                zi=nbin[i] #the ith number of the binary number (0 or 1) \n",
    "                zj=nbin[j]\n",
    "                l = n +(1-2zi)*2^(i-1)+(1-2zj)*2^(j-1)\n",
    "                ham[l+1,n+1] += -(1/4)*jmat[i,j,1] #x-link\n",
    "                ham[l+1,n+1] += (1/4)*jmat[i,j,2]*(2zi-1)*(2zj-1) #y-link\n",
    "                ham[n+1,n+1] += -jmat[i,j,3]*(2zi-1)*(2zj-1) #z-link\n",
    "            end\n",
    "        end\n",
    "    end\n",
    "    return ham\n",
    "end"
   ]
  },
  {
   "cell_type": "markdown",
   "metadata": {},
   "source": [
    "Now define J matrices and find the corresponding hamiltonian."
   ]
  },
  {
   "cell_type": "code",
   "execution_count": 8,
   "metadata": {},
   "outputs": [],
   "source": [
    "N=4\n",
    "jmat = zeros(Int8, N, N, 3);\n",
    "\n",
    "#Ising model\n",
    "#jmat[1,2,3]=jmat[1,3,3]=jmat[2,3,3]=jmat[2,1,3]=jmat[3,1,3]=jmat[3,2,3]=-1\n",
    "#jmat[1,2,3]=jmat[2,3,3]=jmat[2,1,3]=jmat[3,2,3]=-1\n",
    "for i in 1:N-1\n",
    "    jmat[i,i+1,3]=jmat[i+1,i,3]=1\n",
    "end\n",
    "mat1=Matrix(MakeHam(jmat))\n",
    "mat1\n",
    "\n",
    "\n",
    "N=4\n",
    "\n",
    "#Heisenberg\n",
    "jmat = zeros(Int8, N, N, 3);\n",
    "for i in 1:N-1\n",
    "    for a in 1:3\n",
    "        jmat[i,i+1,a]=jmat[i+1,i,a]=-1\n",
    "    end\n",
    "end\n",
    "\n",
    "mat2=Matrix(MakeHam(jmat));\n",
    "\n",
    "#=\n",
    "#Specified model\n",
    "jmat = zeros(Int8, N, N, 3)\n",
    "jmat[1,2,1]=jmat[2,3,2]=jmat[1,3,3]=1\n",
    "mat3=Matrix(MakeHam(jmat))\n",
    "display(mat3)=#"
   ]
  },
  {
   "cell_type": "markdown",
   "metadata": {},
   "source": [
    "## Ising model, eigensystem"
   ]
  },
  {
   "cell_type": "code",
   "execution_count": 6,
   "metadata": {},
   "outputs": [
    {
     "data": {
      "text/plain": [
       "256-element Array{Float64,1}:\n",
       " -7.0\n",
       " -7.0\n",
       " -5.0\n",
       " -5.0\n",
       " -5.0\n",
       " -5.0\n",
       " -5.0\n",
       " -5.0\n",
       " -5.0\n",
       " -5.0\n",
       " -5.0\n",
       " -5.0\n",
       " -5.0\n",
       "  ⋮  \n",
       "  5.0\n",
       "  5.0\n",
       "  5.0\n",
       "  5.0\n",
       "  5.0\n",
       "  5.0\n",
       "  5.0\n",
       "  5.0\n",
       "  5.0\n",
       "  5.0\n",
       "  7.0\n",
       "  7.0"
      ]
     },
     "metadata": {},
     "output_type": "display_data"
    },
    {
     "data": {
      "text/plain": [
       "256×256 Array{Float64,2}:\n",
       " 1.0  0.0  0.0  0.0  0.0  0.0  0.0  0.0  …  0.0  0.0  0.0  0.0  0.0  0.0  0.0\n",
       " 0.0  1.0  0.0  0.0  0.0  0.0  0.0  0.0     0.0  0.0  0.0  0.0  0.0  0.0  0.0\n",
       " 0.0  0.0  1.0  0.0  0.0  0.0  0.0  0.0     0.0  0.0  0.0  0.0  0.0  0.0  0.0\n",
       " 0.0  0.0  0.0  1.0  0.0  0.0  0.0  0.0     0.0  0.0  0.0  0.0  0.0  0.0  0.0\n",
       " 0.0  0.0  0.0  0.0  1.0  0.0  0.0  0.0     0.0  0.0  0.0  0.0  0.0  0.0  0.0\n",
       " 0.0  0.0  0.0  0.0  0.0  1.0  0.0  0.0  …  0.0  0.0  0.0  0.0  0.0  0.0  0.0\n",
       " 0.0  0.0  0.0  0.0  0.0  0.0  1.0  0.0     0.0  0.0  0.0  0.0  0.0  0.0  0.0\n",
       " 0.0  0.0  0.0  0.0  0.0  0.0  0.0  1.0     0.0  0.0  0.0  0.0  0.0  0.0  0.0\n",
       " 0.0  0.0  0.0  0.0  0.0  0.0  0.0  0.0     0.0  0.0  0.0  0.0  0.0  0.0  0.0\n",
       " 0.0  0.0  0.0  0.0  0.0  0.0  0.0  0.0     0.0  0.0  0.0  0.0  0.0  0.0  0.0\n",
       " 0.0  0.0  0.0  0.0  0.0  0.0  0.0  0.0  …  0.0  0.0  0.0  0.0  0.0  0.0  0.0\n",
       " 0.0  0.0  0.0  0.0  0.0  0.0  0.0  0.0     0.0  0.0  0.0  0.0  0.0  0.0  0.0\n",
       " 0.0  0.0  0.0  0.0  0.0  0.0  0.0  0.0     0.0  0.0  0.0  0.0  0.0  0.0  0.0\n",
       " ⋮                        ⋮              ⋱       ⋮                        ⋮  \n",
       " 0.0  0.0  0.0  0.0  0.0  0.0  0.0  0.0     0.0  0.0  0.0  0.0  0.0  0.0  0.0\n",
       " 0.0  0.0  0.0  0.0  0.0  0.0  0.0  0.0  …  0.0  0.0  0.0  0.0  0.0  0.0  0.0\n",
       " 0.0  0.0  0.0  0.0  0.0  0.0  0.0  0.0     0.0  0.0  0.0  0.0  0.0  0.0  0.0\n",
       " 0.0  0.0  0.0  0.0  0.0  0.0  0.0  0.0     0.0  0.0  0.0  0.0  0.0  0.0  0.0\n",
       " 0.0  0.0  0.0  0.0  0.0  0.0  0.0  0.0     0.0  0.0  0.0  0.0  0.0  0.0  0.0\n",
       " 0.0  0.0  0.0  0.0  0.0  0.0  0.0  0.0     1.0  0.0  0.0  0.0  0.0  0.0  0.0\n",
       " 0.0  0.0  0.0  0.0  0.0  0.0  0.0  0.0  …  0.0  1.0  0.0  0.0  0.0  0.0  0.0\n",
       " 0.0  0.0  0.0  0.0  0.0  0.0  0.0  0.0     0.0  0.0  1.0  0.0  0.0  0.0  0.0\n",
       " 0.0  0.0  0.0  0.0  0.0  0.0  0.0  0.0     0.0  0.0  0.0  1.0  0.0  0.0  0.0\n",
       " 0.0  0.0  0.0  0.0  0.0  0.0  0.0  0.0     0.0  0.0  0.0  0.0  1.0  0.0  0.0\n",
       " 0.0  0.0  0.0  0.0  0.0  0.0  0.0  0.0     0.0  0.0  0.0  0.0  0.0  1.0  0.0\n",
       " 0.0  0.0  0.0  0.0  0.0  0.0  0.0  0.0  …  0.0  0.0  0.0  0.0  0.0  0.0  1.0"
      ]
     },
     "execution_count": 6,
     "metadata": {},
     "output_type": "execute_result"
    }
   ],
   "source": [
    "display(eigvals(mat1))\n",
    "eigvecs(mat1)"
   ]
  },
  {
   "cell_type": "markdown",
   "metadata": {},
   "source": [
    "## Heisenberg"
   ]
  },
  {
   "cell_type": "code",
   "execution_count": 9,
   "metadata": {},
   "outputs": [
    {
     "data": {
      "text/plain": [
       "16-element Array{Float64,1}:\n",
       " -3.462171996010125 \n",
       " -3.0615528128088307\n",
       " -1.596291201783627 \n",
       " -1.596291201783626 \n",
       " -0.9999999999999992\n",
       " -0.6513878188659976\n",
       " -0.6513878188659973\n",
       " -0.6075329837426913\n",
       "  1.0615528128088296\n",
       "  1.0697049797528164\n",
       "  1.096291201783626 \n",
       "  1.0962912017836264\n",
       "  1.1513878188659974\n",
       "  1.151387818865998 \n",
       "  3.0               \n",
       "  3.0               "
      ]
     },
     "metadata": {},
     "output_type": "display_data"
    },
    {
     "data": {
      "text/plain": [
       "16×16 Array{Float64,2}:\n",
       "  0.0           0.0           0.0       …  0.0        0.0          1.0  0.0\n",
       " -6.90275e-19   0.0           0.0          0.0        0.676766     0.0  0.0\n",
       "  6.16025e-18   0.0           0.0          0.0        0.204908     0.0  0.0\n",
       " -0.0730174     0.0863966     0.0          0.0        4.57967e-16  0.0  0.0\n",
       " -2.96449e-17   2.2933e-17    0.0          0.0        0.204908     0.0  0.0\n",
       "  0.651632     -0.701809      0.0       …  0.0        1.66533e-16  0.0  0.0\n",
       " -0.264658     -1.17961e-16   0.0          0.0        1.32039e-16  0.0  0.0\n",
       "  0.0           0.0           0.133719     0.676766   0.0          0.0  0.0\n",
       "  1.11022e-16  -5.55112e-17   0.0          0.0        0.676766     0.0  0.0\n",
       " -0.264658     -1.11022e-16   0.0          0.0       -1.57669e-16  0.0  0.0\n",
       "  0.651632      0.701809      0.0       …  0.0       -9.75005e-17  0.0  0.0\n",
       "  0.0           0.0          -0.694348     0.204908   0.0          0.0  0.0\n",
       " -0.0730174    -0.0863966     0.0          0.0       -7.83895e-16  0.0  0.0\n",
       "  0.0           0.0           0.694348     0.204908   0.0          0.0  0.0\n",
       "  0.0           0.0          -0.133719     0.676766   0.0          0.0  0.0\n",
       "  0.0           0.0           0.0       …  0.0        0.0          0.0  1.0"
      ]
     },
     "execution_count": 9,
     "metadata": {},
     "output_type": "execute_result"
    }
   ],
   "source": [
    "display(eigvals(mat2))\n",
    "heiseigvec=eigvecs(mat2)"
   ]
  },
  {
   "cell_type": "code",
   "execution_count": 12,
   "metadata": {},
   "outputs": [
    {
     "data": {
      "text/plain": [
       "16×16 Array{Float64,2}:\n",
       " 3.0  0.0   0.0  0.0   0.0   0.0   0.0  …   0.0   0.0  0.0   0.0  0.0  0.0\n",
       " 0.0  1.0   0.5  0.0   0.0   0.0   0.0      0.0   0.0  0.0   0.0  0.0  0.0\n",
       " 0.0  0.5  -1.0  0.0   0.5   0.0   0.0      0.0   0.0  0.0   0.0  0.0  0.0\n",
       " 0.0  0.0   0.0  1.0   0.0   0.5   0.0      0.0   0.0  0.0   0.0  0.0  0.0\n",
       " 0.0  0.0   0.5  0.0  -1.0   0.0   0.0      0.0   0.0  0.0   0.0  0.0  0.0\n",
       " 0.0  0.0   0.0  0.5   0.0  -3.0   0.5  …   0.0   0.0  0.0   0.0  0.0  0.0\n",
       " 0.0  0.0   0.0  0.0   0.0   0.5  -1.0      0.5   0.0  0.0   0.0  0.0  0.0\n",
       " 0.0  0.0   0.0  0.0   0.0   0.0   0.0      0.0   0.5  0.0   0.0  0.0  0.0\n",
       " 0.0  0.0   0.0  0.0   0.5   0.0   0.0      0.0   0.0  0.0   0.0  0.0  0.0\n",
       " 0.0  0.0   0.0  0.0   0.0   0.5   0.0      0.5   0.0  0.0   0.0  0.0  0.0\n",
       " 0.0  0.0   0.0  0.0   0.0   0.0   0.5  …  -3.0   0.0  0.5   0.0  0.0  0.0\n",
       " 0.0  0.0   0.0  0.0   0.0   0.0   0.0      0.0  -1.0  0.0   0.5  0.0  0.0\n",
       " 0.0  0.0   0.0  0.0   0.0   0.0   0.0      0.5   0.0  1.0   0.0  0.0  0.0\n",
       " 0.0  0.0   0.0  0.0   0.0   0.0   0.0      0.0   0.5  0.0  -1.0  0.5  0.0\n",
       " 0.0  0.0   0.0  0.0   0.0   0.0   0.0      0.0   0.0  0.0   0.5  1.0  0.0\n",
       " 0.0  0.0   0.0  0.0   0.0   0.0   0.0  …   0.0   0.0  0.0   0.0  0.0  3.0"
      ]
     },
     "execution_count": 12,
     "metadata": {},
     "output_type": "execute_result"
    }
   ],
   "source": [
    "mat2"
   ]
  },
  {
   "cell_type": "code",
   "execution_count": 8,
   "metadata": {},
   "outputs": [],
   "source": [
    "writedlm(\"heisgs.txt\",heiseigvec[:,1])"
   ]
  },
  {
   "cell_type": "markdown",
   "metadata": {},
   "source": [
    "## Specified model"
   ]
  },
  {
   "cell_type": "code",
   "execution_count": 13,
   "metadata": {},
   "outputs": [
    {
     "data": {
      "text/plain": [
       "8-element Array{Float64,1}:\n",
       " -0.4330127018922194 \n",
       " -0.4330127018922194 \n",
       " -0.43301270189221935\n",
       " -0.43301270189221924\n",
       "  0.43301270189221913\n",
       "  0.43301270189221924\n",
       "  0.4330127018922193 \n",
       "  0.4330127018922194 "
      ]
     },
     "metadata": {},
     "output_type": "display_data"
    },
    {
     "data": {
      "text/plain": [
       "8×8 Array{Float64,2}:\n",
       " -0.627963      0.157402     -0.607916     …   0.137013      0.0     \n",
       " -1.11022e-16  -0.314681     -0.0814772       -0.569453     -0.627963\n",
       "  0.0          -0.859723     -0.2226           0.416869      0.0     \n",
       "  0.0           0.115226     -0.445026        -0.374328      0.0     \n",
       "  5.55112e-17  -0.314681     -0.0814772       -0.569453      0.627963\n",
       "  0.627963      0.157402     -0.607916     …   0.137013      0.0     \n",
       "  0.459701      2.77556e-17  -7.63278e-17      5.55112e-17   0.0     \n",
       "  0.0           0.0           0.0              0.0          -0.459701"
      ]
     },
     "execution_count": 13,
     "metadata": {},
     "output_type": "execute_result"
    }
   ],
   "source": [
    "display(eigvals(mat3))\n",
    "eigvecs(mat3)"
   ]
  }
 ],
 "metadata": {
  "kernelspec": {
   "display_name": "Julia 1.1.1",
   "language": "julia",
   "name": "julia-1.1"
  },
  "language_info": {
   "file_extension": ".jl",
   "mimetype": "application/julia",
   "name": "julia",
   "version": "1.1.1"
  }
 },
 "nbformat": 4,
 "nbformat_minor": 2
}
