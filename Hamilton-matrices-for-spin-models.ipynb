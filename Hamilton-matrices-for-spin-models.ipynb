{
 "cells": [
  {
   "cell_type": "markdown",
   "metadata": {},
   "source": [
    "# Hamilton matrices for spin models"
   ]
  },
  {
   "cell_type": "markdown",
   "metadata": {},
   "source": [
    "Quantum states are represented by binary number which can be converted to a decimal number.\n",
    "\n",
    "We start with state n, and by applying the algorithm provided in the lecture this state is modified by the operator $J_{i,j}^{\\alpha}S_i^{\\alpha}S_j^{\\alpha}$.\n",
    "\n",
    "We now want to construct a matrix using this algorithm."
   ]
  },
  {
   "cell_type": "code",
   "execution_count": 1,
   "metadata": {},
   "outputs": [],
   "source": [
    "using LinearAlgebra, SparseArrays, DelimitedFiles\n",
    "#Specifying the number of particles and the interaction matrices \n",
    "N=3\n",
    "jmat = zeros(Int8, N, N, 3);"
   ]
  },
  {
   "cell_type": "code",
   "execution_count": 2,
   "metadata": {},
   "outputs": [
    {
     "data": {
      "text/plain": [
       "MakeHam (generic function with 1 method)"
      ]
     },
     "execution_count": 2,
     "metadata": {},
     "output_type": "execute_result"
    }
   ],
   "source": [
    "function MakeHam(jmat)\n",
    "    ham = spzeros(Float64,2^N, 2^N) #create empty sparse\n",
    "    for n in 0:2^N-1 #going trhough all possible states n\n",
    "        nbin=digits(n, base = 2, pad = N) #finding the binary corresponding to n (the state)\n",
    "        for i in 1:N #i,j going through the elements of the J-matrices\n",
    "            for j in i+1:N\n",
    "                zi=nbin[i] #the ith number of the binary number (0 or 1) \n",
    "                zj=nbin[j]\n",
    "                l = n +(1-2zi)*2^(i-1)+(1-2zj)*2^(j-1)\n",
    "                ham[l+1,n+1] += -(1/4)*jmat[i,j,1] #x-link\n",
    "                ham[l+1,n+1] += (1/4)*jmat[i,j,2]*(2zi-1)*(2zj-1) #y-link\n",
    "                ham[n+1,n+1] += -jmat[i,j,3]*(2zi-1)*(2zj-1) #z-link\n",
    "            end\n",
    "        end\n",
    "    end\n",
    "    return ham\n",
    "end"
   ]
  },
  {
   "cell_type": "markdown",
   "metadata": {},
   "source": [
    "Now define J matrices and find the corresponding hamiltonian."
   ]
  },
  {
   "cell_type": "code",
   "execution_count": 5,
   "metadata": {},
   "outputs": [],
   "source": [
    "jmat = zeros(Int8, N, N, 3);\n",
    "\n",
    "#Ising model\n",
    "#jmat[1,2,3]=jmat[1,3,3]=jmat[2,3,3]=jmat[2,1,3]=jmat[3,1,3]=jmat[3,2,3]=-1\n",
    "#jmat[1,2,3]=jmat[2,3,3]=jmat[2,1,3]=jmat[3,2,3]=-1\n",
    "for i in 1:N-1\n",
    "    jmat[i,i+1,3]=jmat[i+1,i,3]=1\n",
    "end\n",
    "mat1=Matrix(MakeHam(jmat))\n",
    "mat1\n",
    "\n",
    "\n",
    "N=8\n",
    "\n",
    "#Heisenberg\n",
    "jmat = zeros(Int8, N, N, 3);\n",
    "for i in 1:N-1\n",
    "    for a in 1:3\n",
    "        jmat[i,i+1,a]=jmat[i+1,i,a]=-1\n",
    "    end\n",
    "end\n",
    "\n",
    "mat2=Matrix(MakeHam(jmat));\n",
    "\n",
    "#=\n",
    "#Specified model\n",
    "jmat = zeros(Int8, N, N, 3)\n",
    "jmat[1,2,1]=jmat[2,3,2]=jmat[1,3,3]=1\n",
    "mat3=Matrix(MakeHam(jmat))\n",
    "display(mat3)=#"
   ]
  },
  {
   "cell_type": "markdown",
   "metadata": {},
   "source": [
    "## Ising model, eigensystem"
   ]
  },
  {
   "cell_type": "code",
   "execution_count": 6,
   "metadata": {},
   "outputs": [
    {
     "data": {
      "text/plain": [
       "256-element Array{Float64,1}:\n",
       " -7.0\n",
       " -7.0\n",
       " -5.0\n",
       " -5.0\n",
       " -5.0\n",
       " -5.0\n",
       " -5.0\n",
       " -5.0\n",
       " -5.0\n",
       " -5.0\n",
       " -5.0\n",
       " -5.0\n",
       " -5.0\n",
       "  ⋮  \n",
       "  5.0\n",
       "  5.0\n",
       "  5.0\n",
       "  5.0\n",
       "  5.0\n",
       "  5.0\n",
       "  5.0\n",
       "  5.0\n",
       "  5.0\n",
       "  5.0\n",
       "  7.0\n",
       "  7.0"
      ]
     },
     "metadata": {},
     "output_type": "display_data"
    },
    {
     "data": {
      "text/plain": [
       "256×256 Array{Float64,2}:\n",
       " 1.0  0.0  0.0  0.0  0.0  0.0  0.0  0.0  …  0.0  0.0  0.0  0.0  0.0  0.0  0.0\n",
       " 0.0  1.0  0.0  0.0  0.0  0.0  0.0  0.0     0.0  0.0  0.0  0.0  0.0  0.0  0.0\n",
       " 0.0  0.0  1.0  0.0  0.0  0.0  0.0  0.0     0.0  0.0  0.0  0.0  0.0  0.0  0.0\n",
       " 0.0  0.0  0.0  1.0  0.0  0.0  0.0  0.0     0.0  0.0  0.0  0.0  0.0  0.0  0.0\n",
       " 0.0  0.0  0.0  0.0  1.0  0.0  0.0  0.0     0.0  0.0  0.0  0.0  0.0  0.0  0.0\n",
       " 0.0  0.0  0.0  0.0  0.0  1.0  0.0  0.0  …  0.0  0.0  0.0  0.0  0.0  0.0  0.0\n",
       " 0.0  0.0  0.0  0.0  0.0  0.0  1.0  0.0     0.0  0.0  0.0  0.0  0.0  0.0  0.0\n",
       " 0.0  0.0  0.0  0.0  0.0  0.0  0.0  1.0     0.0  0.0  0.0  0.0  0.0  0.0  0.0\n",
       " 0.0  0.0  0.0  0.0  0.0  0.0  0.0  0.0     0.0  0.0  0.0  0.0  0.0  0.0  0.0\n",
       " 0.0  0.0  0.0  0.0  0.0  0.0  0.0  0.0     0.0  0.0  0.0  0.0  0.0  0.0  0.0\n",
       " 0.0  0.0  0.0  0.0  0.0  0.0  0.0  0.0  …  0.0  0.0  0.0  0.0  0.0  0.0  0.0\n",
       " 0.0  0.0  0.0  0.0  0.0  0.0  0.0  0.0     0.0  0.0  0.0  0.0  0.0  0.0  0.0\n",
       " 0.0  0.0  0.0  0.0  0.0  0.0  0.0  0.0     0.0  0.0  0.0  0.0  0.0  0.0  0.0\n",
       " ⋮                        ⋮              ⋱       ⋮                        ⋮  \n",
       " 0.0  0.0  0.0  0.0  0.0  0.0  0.0  0.0     0.0  0.0  0.0  0.0  0.0  0.0  0.0\n",
       " 0.0  0.0  0.0  0.0  0.0  0.0  0.0  0.0  …  0.0  0.0  0.0  0.0  0.0  0.0  0.0\n",
       " 0.0  0.0  0.0  0.0  0.0  0.0  0.0  0.0     0.0  0.0  0.0  0.0  0.0  0.0  0.0\n",
       " 0.0  0.0  0.0  0.0  0.0  0.0  0.0  0.0     0.0  0.0  0.0  0.0  0.0  0.0  0.0\n",
       " 0.0  0.0  0.0  0.0  0.0  0.0  0.0  0.0     0.0  0.0  0.0  0.0  0.0  0.0  0.0\n",
       " 0.0  0.0  0.0  0.0  0.0  0.0  0.0  0.0     1.0  0.0  0.0  0.0  0.0  0.0  0.0\n",
       " 0.0  0.0  0.0  0.0  0.0  0.0  0.0  0.0  …  0.0  1.0  0.0  0.0  0.0  0.0  0.0\n",
       " 0.0  0.0  0.0  0.0  0.0  0.0  0.0  0.0     0.0  0.0  1.0  0.0  0.0  0.0  0.0\n",
       " 0.0  0.0  0.0  0.0  0.0  0.0  0.0  0.0     0.0  0.0  0.0  1.0  0.0  0.0  0.0\n",
       " 0.0  0.0  0.0  0.0  0.0  0.0  0.0  0.0     0.0  0.0  0.0  0.0  1.0  0.0  0.0\n",
       " 0.0  0.0  0.0  0.0  0.0  0.0  0.0  0.0     0.0  0.0  0.0  0.0  0.0  1.0  0.0\n",
       " 0.0  0.0  0.0  0.0  0.0  0.0  0.0  0.0  …  0.0  0.0  0.0  0.0  0.0  0.0  1.0"
      ]
     },
     "execution_count": 6,
     "metadata": {},
     "output_type": "execute_result"
    }
   ],
   "source": [
    "display(eigvals(mat1))\n",
    "eigvecs(mat1)"
   ]
  },
  {
   "cell_type": "markdown",
   "metadata": {},
   "source": [
    "## Heisenberg"
   ]
  },
  {
   "cell_type": "code",
   "execution_count": 7,
   "metadata": {},
   "outputs": [
    {
     "data": {
      "text/plain": [
       "256-element Array{Float64,1}:\n",
       " -7.591062169619456 \n",
       " -7.506559856938644 \n",
       " -6.191171730393382 \n",
       " -6.191171730393372 \n",
       " -5.938322978443187 \n",
       " -5.855226703328099 \n",
       " -5.607576502263833 \n",
       " -5.607576502263828 \n",
       " -5.211204694691963 \n",
       " -5.128319370989215 \n",
       " -5.0377689033176125\n",
       " -5.037768903317607 \n",
       " -4.716098629506644 \n",
       "  ⋮                 \n",
       "  5.063524594423383 \n",
       "  5.06352459442339  \n",
       "  5.064516124692643 \n",
       "  5.064516124692674 \n",
       "  5.064516133547394 \n",
       "  5.0645161335474205\n",
       "  5.124892669458118 \n",
       "  5.124892669458127 \n",
       "  5.125107246231683 \n",
       "  5.125107246231692 \n",
       "  7.0               \n",
       "  7.0               "
      ]
     },
     "metadata": {},
     "output_type": "display_data"
    },
    {
     "data": {
      "text/plain": [
       "256×256 Array{Float64,2}:\n",
       "  0.0           0.0          …   0.0          0.0          1.0  0.0\n",
       "  8.94267e-76   0.0             -0.684541     0.0          0.0  0.0\n",
       " -2.25196e-74   0.0             -0.171282     0.0          0.0  0.0\n",
       "  1.27246e-42   0.0              1.94724e-16  0.0          0.0  0.0\n",
       "  4.76118e-73   0.0             -0.0434446    0.0          0.0  0.0\n",
       " -3.20433e-41   0.0          …   4.39374e-17  0.0          0.0  0.0\n",
       "  1.64631e-40   0.0              1.4237e-17   0.0          0.0  0.0\n",
       "  2.15031e-29   2.84927e-24     -3.48927e-16  0.0          0.0  0.0\n",
       " -1.00627e-71   0.0             -0.0133667    0.0          0.0  0.0\n",
       "  3.84668e-40   0.0              8.77867e-18  0.0          0.0  0.0\n",
       " -3.4552e-39    9.2666e-38   …   1.9735e-17   0.0          0.0  0.0\n",
       " -5.12995e-28  -2.14857e-23     -4.75849e-17  0.0          0.0  0.0\n",
       "  1.01106e-38   4.47173e-37      1.95241e-16  0.0          0.0  0.0\n",
       "  ⋮                          ⋱                                  ⋮  \n",
       " -7.26024e-17  -1.00104e-16      1.02347e-17  0.0          0.0  0.0\n",
       "  3.98721e-18  -4.11634e-18  …   2.27713e-32  0.0          0.0  0.0\n",
       "  1.55929e-27   0.0             -8.89248e-72  0.0          0.0  0.0\n",
       "  0.0           0.0              0.0          0.0133667    0.0  0.0\n",
       " -2.51317e-17   3.41846e-17     -1.34518e-18  0.0          0.0  0.0\n",
       " -4.40775e-19  -1.3813e-18       3.85186e-34  0.0          0.0  0.0\n",
       "  5.96008e-19  -1.07414e-18  …  -1.32889e-32  0.0          0.0  0.0\n",
       "  0.0           0.0              0.0          0.0434446    0.0  0.0\n",
       " -7.71329e-20   1.94394e-19      2.6963e-33   4.85723e-17  0.0  0.0\n",
       "  0.0           0.0              0.0          0.171282     0.0  0.0\n",
       "  0.0           0.0              0.0          0.684541     0.0  0.0\n",
       "  0.0           0.0          …   0.0          0.0          0.0  1.0"
      ]
     },
     "execution_count": 7,
     "metadata": {},
     "output_type": "execute_result"
    }
   ],
   "source": [
    "display(eigvals(mat2))\n",
    "heiseigvec=eigvecs(mat2)"
   ]
  },
  {
   "cell_type": "code",
   "execution_count": 8,
   "metadata": {},
   "outputs": [],
   "source": [
    "writedlm(\"heisgs.txt\",heiseigvec[:,1])"
   ]
  },
  {
   "cell_type": "markdown",
   "metadata": {},
   "source": [
    "## Specified model"
   ]
  },
  {
   "cell_type": "code",
   "execution_count": 13,
   "metadata": {},
   "outputs": [
    {
     "data": {
      "text/plain": [
       "8-element Array{Float64,1}:\n",
       " -0.4330127018922194 \n",
       " -0.4330127018922194 \n",
       " -0.43301270189221935\n",
       " -0.43301270189221924\n",
       "  0.43301270189221913\n",
       "  0.43301270189221924\n",
       "  0.4330127018922193 \n",
       "  0.4330127018922194 "
      ]
     },
     "metadata": {},
     "output_type": "display_data"
    },
    {
     "data": {
      "text/plain": [
       "8×8 Array{Float64,2}:\n",
       " -0.627963      0.157402     -0.607916     …   0.137013      0.0     \n",
       " -1.11022e-16  -0.314681     -0.0814772       -0.569453     -0.627963\n",
       "  0.0          -0.859723     -0.2226           0.416869      0.0     \n",
       "  0.0           0.115226     -0.445026        -0.374328      0.0     \n",
       "  5.55112e-17  -0.314681     -0.0814772       -0.569453      0.627963\n",
       "  0.627963      0.157402     -0.607916     …   0.137013      0.0     \n",
       "  0.459701      2.77556e-17  -7.63278e-17      5.55112e-17   0.0     \n",
       "  0.0           0.0           0.0              0.0          -0.459701"
      ]
     },
     "execution_count": 13,
     "metadata": {},
     "output_type": "execute_result"
    }
   ],
   "source": [
    "display(eigvals(mat3))\n",
    "eigvecs(mat3)"
   ]
  }
 ],
 "metadata": {
  "kernelspec": {
   "display_name": "Julia 1.0.2",
   "language": "julia",
   "name": "julia-1.0"
  },
  "language_info": {
   "file_extension": ".jl",
   "mimetype": "application/julia",
   "name": "julia",
   "version": "1.0.2"
  }
 },
 "nbformat": 4,
 "nbformat_minor": 2
}
